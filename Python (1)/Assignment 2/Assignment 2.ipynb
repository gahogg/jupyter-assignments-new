{
 "cells": [
  {
   "cell_type": "code",
   "execution_count": 31,
   "id": "11eda4f6",
   "metadata": {},
   "outputs": [],
   "source": [
    "import numpy as np\n",
    "\n",
    "x = np.arange(5)\n",
    "y = np.arange(6)"
   ]
  },
  {
   "cell_type": "code",
   "execution_count": 32,
   "id": "cd677bcf",
   "metadata": {},
   "outputs": [
    {
     "name": "stdout",
     "output_type": "stream",
     "text": [
      "s\n"
     ]
    }
   ],
   "source": [
    "# DO NOT EDIT, THIS IS REQUIRED FOR GRADING id1 !\n",
    "print('s')"
   ]
  },
  {
   "cell_type": "code",
   "execution_count": 33,
   "id": "fbf19b32",
   "metadata": {},
   "outputs": [
    {
     "name": "stdout",
     "output_type": "stream",
     "text": [
      "z\n"
     ]
    }
   ],
   "source": [
    "# DO NOT EDIT, THIS IS REQUIRED FOR GRADING id2 !\n",
    "print('z')"
   ]
  },
  {
   "cell_type": "code",
   "execution_count": 37,
   "id": "4e2d62ab",
   "metadata": {},
   "outputs": [],
   "source": [
    "# Please enter your Jupyter username:\n",
    "JUPYTER_LOGIN = 'regman1234@gmail.com'\n",
    "\n",
    "# Please enter your Jupyter One Time Password (NOT the password you used to sign in!):\n",
    "JUPYTER_OTP = ''"
   ]
  },
  {
   "cell_type": "markdown",
   "id": "0e9ff3ef",
   "metadata": {},
   "source": [
    "## You've reached the end of the assignment!\n",
    "\n",
    "### Just press Kernel > Restart & Run All to Submit your assignment!\n"
   ]
  },
  {
   "cell_type": "code",
   "execution_count": 40,
   "id": "07b94681",
   "metadata": {},
   "outputs": [
    {
     "data": {
      "application/javascript": [
       "IPython.notebook.save_checkpoint();"
      ],
      "text/plain": [
       "<IPython.core.display.Javascript object>"
      ]
     },
     "metadata": {},
     "output_type": "display_data"
    },
    {
     "data": {
      "application/javascript": [
       "IPython.notebook.save_checkpoint();"
      ],
      "text/plain": [
       "<IPython.core.display.Javascript object>"
      ]
     },
     "metadata": {},
     "output_type": "display_data"
    },
    {
     "name": "stdout",
     "output_type": "stream",
     "text": [
      "Result: {'assignment_number': 'python-1', 'grade': '1 / 2', 'login': 'regman1234@gmail.com', 'submission_password': ''}\n"
     ]
    }
   ],
   "source": [
    "# DO NOT EDIT\n",
    "from IPython.display import display, Javascript\n",
    "import time\n",
    "\n",
    "def notebook_save():\n",
    "    display(Javascript('IPython.notebook.save_checkpoint();'))\n",
    "    time.sleep(2)  # sleep for 2 seconds\n",
    "\n",
    "notebook_save()\n",
    "\n",
    "notebook_save()\n",
    "import os\n",
    "import json\n",
    "import requests\n",
    "\n",
    "working_directory = os.getcwd()\n",
    "notebook_filename = 'Assignment 1 Questions.ipynb' \n",
    "notebook_path = os.path.join(working_directory, notebook_filename)\n",
    "\n",
    "data = {'jupyter_login': JUPYTER_LOGIN, \n",
    "        'jupyter_submission_password': JUPYTER_OTP,\n",
    "        'assignment_code': 'python-1'}\n",
    "\n",
    "with open('data.json', 'w') as json_file:\n",
    "    json.dump(data, json_file)\n",
    "\n",
    "url = 'http://127.0.0.1:5000/grade'\n",
    "\n",
    "files = {'notebook': ('notebook', open(notebook_path, 'rb')),\n",
    "        'json_data': ('json_data', open('data.json', 'rb'))}\n",
    "\n",
    "response = requests.post(url, files=files)\n",
    "\n",
    "if response.status_code == 200:\n",
    "    result = response.text\n",
    "    print(f'Result: {result}')\n",
    "else:\n",
    "    print('Error:', response.text)"
   ]
  },
  {
   "cell_type": "code",
   "execution_count": null,
   "id": "4d4d6f31",
   "metadata": {},
   "outputs": [],
   "source": []
  },
  {
   "cell_type": "code",
   "execution_count": null,
   "id": "f25e8c78",
   "metadata": {},
   "outputs": [],
   "source": []
  }
 ],
 "metadata": {
  "kernelspec": {
   "display_name": "Python 3 (ipykernel)",
   "language": "python",
   "name": "python3"
  },
  "language_info": {
   "codemirror_mode": {
    "name": "ipython",
    "version": 3
   },
   "file_extension": ".py",
   "mimetype": "text/x-python",
   "name": "python",
   "nbconvert_exporter": "python",
   "pygments_lexer": "ipython3",
   "version": "3.9.13"
  }
 },
 "nbformat": 4,
 "nbformat_minor": 5
}
